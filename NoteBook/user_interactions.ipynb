{
 "cells": [
  {
   "cell_type": "markdown",
   "metadata": {
    "application/vnd.databricks.v1+cell": {
     "cellMetadata": {},
     "inputWidgets": {},
     "nuid": "23e2c9f0-3372-4608-b7a1-c69aaf77276b",
     "showTitle": false,
     "tableResultSettingsMap": {},
     "title": ""
    }
   },
   "source": [
    "Product Recommendation Logs A recommendation engine generates user-product interaction logs (views, clicks, purchases). The logs arrive every hour in Parquet format. How would you design a pipeline to maintain an aggregated interaction table (per user, per product)? How would you prevent data skew if 10% of the products account for 90% of the interactions? How would you optimize storage (file size, partitioning, Z-Ordering)? this one i take can you tell step by step solution that solution should like you re expert in databricks data enigner"
   ]
  },
  {
   "cell_type": "code",
   "execution_count": 0,
   "metadata": {
    "application/vnd.databricks.v1+cell": {
     "cellMetadata": {
      "byteLimit": 2048000,
      "implicitDf": true,
      "rowLimit": 10000
     },
     "inputWidgets": {},
     "nuid": "19d873fd-29df-4393-9e7c-93ac7ff4ba94",
     "showTitle": false,
     "tableResultSettingsMap": {},
     "title": ""
    }
   },
   "outputs": [
    {
     "output_type": "display_data",
     "data": {
      "text/html": [
       "<style scoped>\n",
       "  .table-result-container {\n",
       "    max-height: 300px;\n",
       "    overflow: auto;\n",
       "  }\n",
       "  table, th, td {\n",
       "    border: 1px solid black;\n",
       "    border-collapse: collapse;\n",
       "  }\n",
       "  th, td {\n",
       "    padding: 5px;\n",
       "  }\n",
       "  th {\n",
       "    text-align: left;\n",
       "  }\n",
       "</style><div class='table-result-container'><table class='table-result'><thead style='background-color: white'><tr><th>num_affected_rows</th><th>num_inserted_rows</th></tr></thead><tbody><tr><td>6</td><td>6</td></tr></tbody></table></div>"
      ]
     },
     "metadata": {
      "application/vnd.databricks.v1+output": {
       "addedWidgets": {},
       "aggData": [],
       "aggError": "",
       "aggOverflow": false,
       "aggSchema": [],
       "aggSeriesLimitReached": false,
       "aggType": "",
       "arguments": {},
       "columnCustomDisplayInfos": {},
       "data": [
        [
         6,
         6
        ]
       ],
       "datasetInfos": [
        {
         "name": "_sqldf",
         "schema": {
          "fields": [
           {
            "metadata": {},
            "name": "num_affected_rows",
            "nullable": true,
            "type": "long"
           },
           {
            "metadata": {},
            "name": "num_inserted_rows",
            "nullable": true,
            "type": "long"
           }
          ],
          "type": "struct"
         },
         "tableIdentifier": null,
         "typeStr": "pyspark.sql.connect.dataframe.DataFrame"
        }
       ],
       "dbfsResultPath": null,
       "isJsonSchema": true,
       "metadata": {
        "createTempViewForImplicitDf": true,
        "dataframeName": "_sqldf",
        "executionCount": 3
       },
       "overflow": false,
       "plotOptions": {
        "customPlotOptions": {},
        "displayType": "table",
        "pivotAggregation": null,
        "pivotColumns": null,
        "xColumns": null,
        "yColumns": null
       },
       "removedWidgets": [],
       "schema": [
        {
         "metadata": "{}",
         "name": "num_affected_rows",
         "type": "\"long\""
        },
        {
         "metadata": "{}",
         "name": "num_inserted_rows",
         "type": "\"long\""
        }
       ],
       "type": "table"
      }
     },
     "output_type": "display_data"
    }
   ],
   "source": [
    "%sql\n",
    "DROP TABLE IF EXISTS learning_db.qna.user_interactions;\n",
    "CREATE TABLE learning_db.qna.user_interactions (\n",
    "  event_time TIMESTAMP,\n",
    "  user_id STRING,\n",
    "  product_id STRING,\n",
    "  interaction_type STRING\n",
    ");\n",
    "\n",
    "INSERT INTO learning_db.qna.user_interactions (event_time, user_id, product_id, interaction_type) VALUES\n",
    "('2025-08-20 10:01:00', 'U1', 'P100', 'view'),\n",
    "('2025-08-20 10:02:00', 'U1', 'P100', 'click'),\n",
    "('2025-08-20 10:05:00', 'U2', 'P200', 'view'),\n",
    "('2025-08-20 10:06:00', 'U2', 'P200', 'view'),\n",
    "('2025-08-20 10:10:00', 'U1', 'P100', 'purchase'),\n",
    "('2025-08-20 10:12:00', 'U3', 'P300', 'view');"
   ]
  },
  {
   "cell_type": "code",
   "execution_count": 0,
   "metadata": {
    "application/vnd.databricks.v1+cell": {
     "cellMetadata": {
      "byteLimit": 2048000,
      "rowLimit": 10000
     },
     "inputWidgets": {},
     "nuid": "3f5bac23-9628-4d30-8a1e-89d5a78adc7e",
     "showTitle": false,
     "tableResultSettingsMap": {},
     "title": ""
    }
   },
   "outputs": [
    {
     "output_type": "display_data",
     "data": {
      "text/html": [
       "<style scoped>\n",
       "  .table-result-container {\n",
       "    max-height: 300px;\n",
       "    overflow: auto;\n",
       "  }\n",
       "  table, th, td {\n",
       "    border: 1px solid black;\n",
       "    border-collapse: collapse;\n",
       "  }\n",
       "  th, td {\n",
       "    padding: 5px;\n",
       "  }\n",
       "  th {\n",
       "    text-align: left;\n",
       "  }\n",
       "</style><div class='table-result-container'><table class='table-result'><thead style='background-color: white'><tr><th>event_time</th><th>user_id</th><th>product_id</th><th>interaction_type</th></tr></thead><tbody><tr><td>2025-08-20T10:01:00.000Z</td><td>U1</td><td>P100</td><td>view</td></tr><tr><td>2025-08-20T10:02:00.000Z</td><td>U1</td><td>P100</td><td>click</td></tr><tr><td>2025-08-20T10:05:00.000Z</td><td>U2</td><td>P200</td><td>view</td></tr><tr><td>2025-08-20T10:06:00.000Z</td><td>U2</td><td>P200</td><td>view</td></tr><tr><td>2025-08-20T10:10:00.000Z</td><td>U1</td><td>P100</td><td>purchase</td></tr><tr><td>2025-08-20T10:12:00.000Z</td><td>U3</td><td>P300</td><td>view</td></tr></tbody></table></div>"
      ]
     },
     "metadata": {
      "application/vnd.databricks.v1+output": {
       "addedWidgets": {},
       "aggData": [],
       "aggError": "",
       "aggOverflow": false,
       "aggSchema": [],
       "aggSeriesLimitReached": false,
       "aggType": "",
       "arguments": {},
       "columnCustomDisplayInfos": {},
       "data": [
        [
         "2025-08-20T10:01:00.000Z",
         "U1",
         "P100",
         "view"
        ],
        [
         "2025-08-20T10:02:00.000Z",
         "U1",
         "P100",
         "click"
        ],
        [
         "2025-08-20T10:05:00.000Z",
         "U2",
         "P200",
         "view"
        ],
        [
         "2025-08-20T10:06:00.000Z",
         "U2",
         "P200",
         "view"
        ],
        [
         "2025-08-20T10:10:00.000Z",
         "U1",
         "P100",
         "purchase"
        ],
        [
         "2025-08-20T10:12:00.000Z",
         "U3",
         "P300",
         "view"
        ]
       ],
       "datasetInfos": [],
       "dbfsResultPath": null,
       "isJsonSchema": true,
       "metadata": {},
       "overflow": false,
       "plotOptions": {
        "customPlotOptions": {},
        "displayType": "table",
        "pivotAggregation": null,
        "pivotColumns": null,
        "xColumns": null,
        "yColumns": null
       },
       "removedWidgets": [],
       "schema": [
        {
         "metadata": "{}",
         "name": "event_time",
         "type": "\"timestamp\""
        },
        {
         "metadata": "{}",
         "name": "user_id",
         "type": "\"string\""
        },
        {
         "metadata": "{}",
         "name": "product_id",
         "type": "\"string\""
        },
        {
         "metadata": "{}",
         "name": "interaction_type",
         "type": "\"string\""
        }
       ],
       "type": "table"
      }
     },
     "output_type": "display_data"
    }
   ],
   "source": [
    "from pyspark.sql.functions import col, sum, when, rand, lit, to_date, max\n",
    "\n",
    "df = spark.table(\"learning_db.qna.user_interactions\")\n",
    "display(df)"
   ]
  },
  {
   "cell_type": "code",
   "execution_count": 0,
   "metadata": {
    "application/vnd.databricks.v1+cell": {
     "cellMetadata": {
      "byteLimit": 2048000,
      "rowLimit": 10000
     },
     "inputWidgets": {},
     "nuid": "0afe4383-1ad2-4414-9bec-dc9569c1f4d1",
     "showTitle": false,
     "tableResultSettingsMap": {},
     "title": ""
    }
   },
   "outputs": [
    {
     "output_type": "display_data",
     "data": {
      "text/html": [
       "<style scoped>\n",
       "  .table-result-container {\n",
       "    max-height: 300px;\n",
       "    overflow: auto;\n",
       "  }\n",
       "  table, th, td {\n",
       "    border: 1px solid black;\n",
       "    border-collapse: collapse;\n",
       "  }\n",
       "  th, td {\n",
       "    padding: 5px;\n",
       "  }\n",
       "  th {\n",
       "    text-align: left;\n",
       "  }\n",
       "</style><div class='table-result-container'><table class='table-result'><thead style='background-color: white'><tr><th>event_time</th><th>user_id</th><th>product_id</th><th>interaction_type</th><th>event_date</th></tr></thead><tbody><tr><td>2025-08-20T10:01:00.000Z</td><td>U1</td><td>P100</td><td>view</td><td>2025-08-20</td></tr><tr><td>2025-08-20T10:02:00.000Z</td><td>U1</td><td>P100</td><td>click</td><td>2025-08-20</td></tr><tr><td>2025-08-20T10:05:00.000Z</td><td>U2</td><td>P200</td><td>view</td><td>2025-08-20</td></tr><tr><td>2025-08-20T10:06:00.000Z</td><td>U2</td><td>P200</td><td>view</td><td>2025-08-20</td></tr><tr><td>2025-08-20T10:10:00.000Z</td><td>U1</td><td>P100</td><td>purchase</td><td>2025-08-20</td></tr><tr><td>2025-08-20T10:12:00.000Z</td><td>U3</td><td>P300</td><td>view</td><td>2025-08-20</td></tr></tbody></table></div>"
      ]
     },
     "metadata": {
      "application/vnd.databricks.v1+output": {
       "addedWidgets": {},
       "aggData": [],
       "aggError": "",
       "aggOverflow": false,
       "aggSchema": [],
       "aggSeriesLimitReached": false,
       "aggType": "",
       "arguments": {},
       "columnCustomDisplayInfos": {},
       "data": [
        [
         "2025-08-20T10:01:00.000Z",
         "U1",
         "P100",
         "view",
         "2025-08-20"
        ],
        [
         "2025-08-20T10:02:00.000Z",
         "U1",
         "P100",
         "click",
         "2025-08-20"
        ],
        [
         "2025-08-20T10:05:00.000Z",
         "U2",
         "P200",
         "view",
         "2025-08-20"
        ],
        [
         "2025-08-20T10:06:00.000Z",
         "U2",
         "P200",
         "view",
         "2025-08-20"
        ],
        [
         "2025-08-20T10:10:00.000Z",
         "U1",
         "P100",
         "purchase",
         "2025-08-20"
        ],
        [
         "2025-08-20T10:12:00.000Z",
         "U3",
         "P300",
         "view",
         "2025-08-20"
        ]
       ],
       "datasetInfos": [],
       "dbfsResultPath": null,
       "isJsonSchema": true,
       "metadata": {},
       "overflow": false,
       "plotOptions": {
        "customPlotOptions": {},
        "displayType": "table",
        "pivotAggregation": null,
        "pivotColumns": null,
        "xColumns": null,
        "yColumns": null
       },
       "removedWidgets": [],
       "schema": [
        {
         "metadata": "{}",
         "name": "event_time",
         "type": "\"timestamp\""
        },
        {
         "metadata": "{}",
         "name": "user_id",
         "type": "\"string\""
        },
        {
         "metadata": "{}",
         "name": "product_id",
         "type": "\"string\""
        },
        {
         "metadata": "{}",
         "name": "interaction_type",
         "type": "\"string\""
        },
        {
         "metadata": "{}",
         "name": "event_date",
         "type": "\"date\""
        }
       ],
       "type": "table"
      }
     },
     "output_type": "display_data"
    }
   ],
   "source": [
    "# add event_date for partioning\n",
    "df = df.withColumn(\"event_date\", to_date(col(\"event_time\")))\n",
    "display(df)"
   ]
  },
  {
   "cell_type": "code",
   "execution_count": 0,
   "metadata": {
    "application/vnd.databricks.v1+cell": {
     "cellMetadata": {
      "byteLimit": 2048000,
      "rowLimit": 10000
     },
     "inputWidgets": {},
     "nuid": "9ba191ef-c764-4487-96ef-718879ff93c4",
     "showTitle": false,
     "tableResultSettingsMap": {},
     "title": ""
    }
   },
   "outputs": [
    {
     "output_type": "display_data",
     "data": {
      "text/html": [
       "<style scoped>\n",
       "  .table-result-container {\n",
       "    max-height: 300px;\n",
       "    overflow: auto;\n",
       "  }\n",
       "  table, th, td {\n",
       "    border: 1px solid black;\n",
       "    border-collapse: collapse;\n",
       "  }\n",
       "  th, td {\n",
       "    padding: 5px;\n",
       "  }\n",
       "  th {\n",
       "    text-align: left;\n",
       "  }\n",
       "</style><div class='table-result-container'><table class='table-result'><thead style='background-color: white'><tr><th>user_id</th><th>product_id</th><th>event_date</th><th>view</th><th>click</th><th>purchase</th><th>last_interaction_time</th></tr></thead><tbody><tr><td>U1</td><td>P100</td><td>2025-08-20</td><td>1</td><td>1</td><td>1</td><td>2025-08-20T10:10:00.000Z</td></tr><tr><td>U3</td><td>P300</td><td>2025-08-20</td><td>1</td><td>0</td><td>0</td><td>2025-08-20T10:12:00.000Z</td></tr><tr><td>U2</td><td>P200</td><td>2025-08-20</td><td>2</td><td>0</td><td>0</td><td>2025-08-20T10:06:00.000Z</td></tr></tbody></table></div>"
      ]
     },
     "metadata": {
      "application/vnd.databricks.v1+output": {
       "addedWidgets": {},
       "aggData": [],
       "aggError": "",
       "aggOverflow": false,
       "aggSchema": [],
       "aggSeriesLimitReached": false,
       "aggType": "",
       "arguments": {},
       "columnCustomDisplayInfos": {},
       "data": [
        [
         "U1",
         "P100",
         "2025-08-20",
         1,
         1,
         1,
         "2025-08-20T10:10:00.000Z"
        ],
        [
         "U3",
         "P300",
         "2025-08-20",
         1,
         0,
         0,
         "2025-08-20T10:12:00.000Z"
        ],
        [
         "U2",
         "P200",
         "2025-08-20",
         2,
         0,
         0,
         "2025-08-20T10:06:00.000Z"
        ]
       ],
       "datasetInfos": [],
       "dbfsResultPath": null,
       "isJsonSchema": true,
       "metadata": {},
       "overflow": false,
       "plotOptions": {
        "customPlotOptions": {},
        "displayType": "table",
        "pivotAggregation": null,
        "pivotColumns": null,
        "xColumns": null,
        "yColumns": null
       },
       "removedWidgets": [],
       "schema": [
        {
         "metadata": "{}",
         "name": "user_id",
         "type": "\"string\""
        },
        {
         "metadata": "{}",
         "name": "product_id",
         "type": "\"string\""
        },
        {
         "metadata": "{}",
         "name": "event_date",
         "type": "\"date\""
        },
        {
         "metadata": "{}",
         "name": "view",
         "type": "\"long\""
        },
        {
         "metadata": "{}",
         "name": "click",
         "type": "\"long\""
        },
        {
         "metadata": "{}",
         "name": "purchase",
         "type": "\"long\""
        },
        {
         "metadata": "{}",
         "name": "last_interaction_time",
         "type": "\"timestamp\""
        }
       ],
       "type": "table"
      }
     },
     "output_type": "display_data"
    }
   ],
   "source": [
    "# aggregate interactions per user x product x date\n",
    "agg_df = df.groupBy(\"user_id\", \"product_id\", \"event_date\")\\\n",
    "    .agg(\n",
    "        sum(when(col(\"interaction_type\") == 'view', 1).otherwise(0)).alias(\"view\"),\n",
    "        sum(when(col(\"interaction_type\") == 'click', 1).otherwise(0)).alias(\"click\"),\n",
    "        sum(when(col(\"interaction_type\") == 'purchase', 1).otherwise(0)).alias(\"purchase\"),\n",
    "        max(\"event_time\").alias(\"last_interaction_time\")\n",
    "    )\n",
    "\n",
    "display(agg_df)"
   ]
  },
  {
   "cell_type": "code",
   "execution_count": 0,
   "metadata": {
    "application/vnd.databricks.v1+cell": {
     "cellMetadata": {
      "byteLimit": 2048000,
      "rowLimit": 10000
     },
     "inputWidgets": {},
     "nuid": "897d7140-df0d-4dd6-9deb-95b63d6c7ef8",
     "showTitle": false,
     "tableResultSettingsMap": {},
     "title": ""
    }
   },
   "outputs": [
    {
     "output_type": "display_data",
     "data": {
      "text/html": [
       "<style scoped>\n",
       "  .table-result-container {\n",
       "    max-height: 300px;\n",
       "    overflow: auto;\n",
       "  }\n",
       "  table, th, td {\n",
       "    border: 1px solid black;\n",
       "    border-collapse: collapse;\n",
       "  }\n",
       "  th, td {\n",
       "    padding: 5px;\n",
       "  }\n",
       "  th {\n",
       "    text-align: left;\n",
       "  }\n",
       "</style><div class='table-result-container'><table class='table-result'><thead style='background-color: white'><tr><th>user_id</th><th>product_id</th><th>event_date</th><th>salt</th><th>view</th><th>click</th><th>purchase</th><th>last_interaction_time</th></tr></thead><tbody><tr><td>U1</td><td>P100</td><td>2025-08-20</td><td>0</td><td>1</td><td>0</td><td>0</td><td>2025-08-20T10:01:00.000Z</td></tr><tr><td>U3</td><td>P300</td><td>2025-08-20</td><td>0</td><td>1</td><td>0</td><td>0</td><td>2025-08-20T10:12:00.000Z</td></tr><tr><td>U1</td><td>P100</td><td>2025-08-20</td><td>7</td><td>0</td><td>0</td><td>1</td><td>2025-08-20T10:10:00.000Z</td></tr><tr><td>U1</td><td>P100</td><td>2025-08-20</td><td>2</td><td>0</td><td>1</td><td>0</td><td>2025-08-20T10:02:00.000Z</td></tr><tr><td>U2</td><td>P200</td><td>2025-08-20</td><td>0</td><td>2</td><td>0</td><td>0</td><td>2025-08-20T10:06:00.000Z</td></tr></tbody></table></div>"
      ]
     },
     "metadata": {
      "application/vnd.databricks.v1+output": {
       "addedWidgets": {},
       "aggData": [],
       "aggError": "",
       "aggOverflow": false,
       "aggSchema": [],
       "aggSeriesLimitReached": false,
       "aggType": "",
       "arguments": {},
       "columnCustomDisplayInfos": {},
       "data": [
        [
         "U1",
         "P100",
         "2025-08-20",
         0,
         1,
         0,
         0,
         "2025-08-20T10:01:00.000Z"
        ],
        [
         "U3",
         "P300",
         "2025-08-20",
         0,
         1,
         0,
         0,
         "2025-08-20T10:12:00.000Z"
        ],
        [
         "U1",
         "P100",
         "2025-08-20",
         7,
         0,
         0,
         1,
         "2025-08-20T10:10:00.000Z"
        ],
        [
         "U1",
         "P100",
         "2025-08-20",
         2,
         0,
         1,
         0,
         "2025-08-20T10:02:00.000Z"
        ],
        [
         "U2",
         "P200",
         "2025-08-20",
         0,
         2,
         0,
         0,
         "2025-08-20T10:06:00.000Z"
        ]
       ],
       "datasetInfos": [],
       "dbfsResultPath": null,
       "isJsonSchema": true,
       "metadata": {},
       "overflow": false,
       "plotOptions": {
        "customPlotOptions": {},
        "displayType": "table",
        "pivotAggregation": null,
        "pivotColumns": null,
        "xColumns": null,
        "yColumns": null
       },
       "removedWidgets": [],
       "schema": [
        {
         "metadata": "{}",
         "name": "user_id",
         "type": "\"string\""
        },
        {
         "metadata": "{}",
         "name": "product_id",
         "type": "\"string\""
        },
        {
         "metadata": "{}",
         "name": "event_date",
         "type": "\"date\""
        },
        {
         "metadata": "{}",
         "name": "salt",
         "type": "\"integer\""
        },
        {
         "metadata": "{}",
         "name": "view",
         "type": "\"long\""
        },
        {
         "metadata": "{}",
         "name": "click",
         "type": "\"long\""
        },
        {
         "metadata": "{}",
         "name": "purchase",
         "type": "\"long\""
        },
        {
         "metadata": "{}",
         "name": "last_interaction_time",
         "type": "\"timestamp\""
        }
       ],
       "type": "table"
      }
     },
     "output_type": "display_data"
    }
   ],
   "source": [
    "# handle data skew(hot products)\n",
    "# fix : adding salting\n",
    "# aggregation in two phases\n",
    "\n",
    "df_salting = df.withColumn(\n",
    "    \"salt\",\n",
    "    when(col(\"product_id\") == \"P100\", (rand() * 10). cast(\"int\")).otherwise(lit(0))\n",
    ")\n",
    "# phase 1 agg with salting method\n",
    "\n",
    "preagg_df = df_salting.groupBy(\"user_id\", \"product_id\", \"event_date\", \"salt\")\\\n",
    "    .agg(\n",
    "        sum(when(col(\"interaction_type\") == 'view', 1).otherwise(0)).alias(\"view\"),\n",
    "        sum(when(col(\"interaction_type\") == 'click', 1).otherwise(0)).alias(\"click\"),\n",
    "        sum(when(col(\"interaction_type\") == 'purchase', 1).otherwise(0)).alias(\"purchase\"),\n",
    "        max(\"event_time\").alias(\"last_interaction_time\")\n",
    "    )\n",
    "\n",
    "# phase 2 collapse salts to get final aggates\n",
    "agg_df = preagg_df.groupBy(\"user_id\", \"product_id\", \"event_date\", \"salt\")\\\n",
    "    .agg(\n",
    "        sum(\"view\").alias(\"view\"),\n",
    "        sum(\"click\").alias(\"click\"),\n",
    "        sum(\"purchase\").alias(\"purchase\"),\n",
    "        max(\"last_interaction_time\").alias(\"last_interaction_time\")\n",
    "    )\n",
    "\n"
   ]
  },
  {
   "cell_type": "code",
   "execution_count": 0,
   "metadata": {
    "application/vnd.databricks.v1+cell": {
     "cellMetadata": {},
     "inputWidgets": {},
     "nuid": "63a5be6c-613b-40a2-b8a8-2916a69d41aa",
     "showTitle": false,
     "tableResultSettingsMap": {},
     "title": ""
    }
   },
   "outputs": [],
   "source": [
    "agg_df.write.format(\"delta\")\\\n",
    "    .mode(\"append\")\\\n",
    "    .partitionBy(\"event_date\")\\\n",
    "    .save(\"/Volumes/learning_db/qna/landing/user_interaction\")"
   ]
  },
  {
   "cell_type": "code",
   "execution_count": 0,
   "metadata": {
    "application/vnd.databricks.v1+cell": {
     "cellMetadata": {},
     "inputWidgets": {},
     "nuid": "0ee8a1ec-607e-402c-89b5-fc8e192b53d7",
     "showTitle": false,
     "tableResultSettingsMap": {},
     "title": ""
    }
   },
   "outputs": [],
   "source": [
    "%sql\n",
    "OPTIMIZE delta.`/Volumes/learning_db/qna/landing/user_interaction`\n",
    "ZORDER BY (user_id, product_id);\n",
    "\n",
    "VACUUM delta.`/Volumes/learning_db/qna/landing/user_interaction` RETAIN 168 HOURS; --keep 7 days histroy"
   ]
  }
 ],
 "metadata": {
  "application/vnd.databricks.v1+notebook": {
   "computePreferences": null,
   "dashboards": [],
   "environmentMetadata": {
    "base_environment": "",
    "environment_version": "3"
   },
   "inputWidgetPreferences": null,
   "language": "python",
   "notebookMetadata": {
    "mostRecentlyExecutedCommandWithImplicitDF": {
     "commandId": 8587215270406730,
     "dataframes": [
      "_sqldf"
     ]
    },
    "pythonIndentUnit": 4
   },
   "notebookName": "user_interactions",
   "widgets": {}
  },
  "language_info": {
   "name": "python"
  }
 },
 "nbformat": 4,
 "nbformat_minor": 0
}